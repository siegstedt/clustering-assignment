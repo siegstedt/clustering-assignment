{
 "cells": [
  {
   "cell_type": "markdown",
   "id": "biological-education",
   "metadata": {},
   "source": [
    "# Clustering Assingment\n",
    "\n",
    "Hi,\n",
    "\n",
    "and welcome to our clustering assignment. We're absolutely excited to have you getting your hands dirty on this exercise.\n",
    "\n",
    "Here's the situation:\n",
    "\n",
    "We've received geographical data from a company which resembles their sales territories. The customer has 4 sales territories and asks us to:\n",
    "\n",
    "- create one geographical structure where each territory is cut into four sub-territories, whereas each of the created sub-territories should be geographically united, and of equal size in population.\n",
    "- create another geographical structure where each territory is cut into as many sub-territories as possible, whereas each of the created sub-territories should be geographically united, and each sub-territory should have a population of at least 500000.\n",
    "\n",
    "Here is what your colleague has prepared for:"
   ]
  },
  {
   "cell_type": "markdown",
   "id": "apart-swift",
   "metadata": {},
   "source": [
    "## Data sources\n",
    "\n",
    "The dataset stems from a public data source that provides administrative Community boundaries of Germany with population number.\n",
    "\n",
    "Find a detailed data set description here:\n",
    "https://opendata-esri-de.opendata.arcgis.com/datasets/esri-de-content::gemeindegrenzen-2019-mit-einwohnerzahl/data?geometry=8.643%2C50.790%2C10.888%2C51.093\n",
    "\n",
    "Let's load the data first."
   ]
  },
  {
   "cell_type": "markdown",
   "id": "imperial-muslim",
   "metadata": {},
   "source": [
    "#### data sources: load the raw data"
   ]
  },
  {
   "cell_type": "code",
   "execution_count": null,
   "id": "mighty-training",
   "metadata": {},
   "outputs": [],
   "source": [
    "# in case you need to install\n",
    "#!pip install geopandas"
   ]
  },
  {
   "cell_type": "code",
   "execution_count": null,
   "id": "conscious-antenna",
   "metadata": {},
   "outputs": [],
   "source": [
    "import geopandas as gpd\n",
    "url = \"https://opendata.arcgis.com/datasets/662209f48e384845974d2cff8d8c2fbd_0.geojson\"\n",
    "gdf = gpd.read_file(url)"
   ]
  },
  {
   "cell_type": "code",
   "execution_count": null,
   "id": "optimum-phoenix",
   "metadata": {},
   "outputs": [],
   "source": [
    "# add community_code\n",
    "ags_cols = ['SN_L', 'SN_R', 'SN_K','SN_V1', 'SN_V2', 'SN_G']\n",
    "gdf['community_code'] = gdf.SN_L.astype(str)+gdf.SN_R.astype(str)+gdf.SN_K.astype(str)+gdf.SN_V1.astype(str)+gdf.SN_V2.astype(str)+gdf.SN_G.astype(str)\n",
    "gdf['community_code'] = gdf['community_code'].astype(int)"
   ]
  },
  {
   "cell_type": "markdown",
   "id": "forty-herald",
   "metadata": {},
   "source": [
    "#### data sources: sales territories"
   ]
  },
  {
   "cell_type": "code",
   "execution_count": null,
   "id": "toxic-front",
   "metadata": {},
   "outputs": [],
   "source": [
    "# prepare sales territories\n",
    "import numpy as np\n",
    "gdf.loc[gdf.SN_L.isin(['01', '02', '03', '04', '13']), 'sales_territory'] = 'north'\n",
    "gdf.loc[gdf.SN_L.isin(['06', '08', '09']), 'sales_territory'] = 'south'\n",
    "gdf.loc[gdf.SN_L.isin(['05', '07', '10']), 'sales_territory'] = 'west'\n",
    "gdf.loc[gdf.SN_L.isin(['11','12', '14', '15','16']), 'sales_territory'] = 'east'\n",
    "\n",
    "sales_terr = gdf[['community_code', 'sales_territory']].copy()\n",
    "\n",
    "sales_terr.head()"
   ]
  },
  {
   "cell_type": "markdown",
   "id": "stupid-brown",
   "metadata": {},
   "source": [
    "#### data sources: geographies"
   ]
  },
  {
   "cell_type": "code",
   "execution_count": null,
   "id": "critical-scoop",
   "metadata": {
    "tags": []
   },
   "outputs": [],
   "source": [
    "# add centroids per community code\n",
    "def getCentroids(geoDF):\n",
    "    ctr_pts = [geoDF.geometry[i][0].centroid for i in range(len(geoDF))]\n",
    "    return ctr_pts\n",
    "        \n",
    "def getXY(ctr_pts):\n",
    "    return (ctr_pts.x, ctr_pts.y)\n",
    "\n",
    "gdf[\"longitude_centroid\"], gdf[\"latitude_centroid\"] = [list(t) for t in zip(*map(getXY, getCentroids(gdf)))]\n",
    "\n",
    "geographies = gdf[[\"community_code\",\"longitude_centroid\",\"latitude_centroid\", 'SHAPE_Length', 'SHAPE_Area', 'geometry']].copy()\n",
    "\n",
    "geographies.head()"
   ]
  },
  {
   "cell_type": "markdown",
   "id": "mechanical-behavior",
   "metadata": {},
   "source": [
    "#### data sources: reference data"
   ]
  },
  {
   "cell_type": "code",
   "execution_count": null,
   "id": "amino-advancement",
   "metadata": {
    "tags": []
   },
   "outputs": [],
   "source": [
    "ref_cols = [\n",
    "    'community_code', 'GEN', 'BEZ', 'IBZ', 'BEM',\n",
    "    'AGS', 'SN_L', 'SN_R', 'SN_K','SN_V1', 'SN_V2', 'SN_G', \n",
    "    'FK_S3', 'NUTS', 'WSK', 'EWZ', 'KFL'\n",
    "]\n",
    "ref_data = gdf[ref_cols].copy()\n",
    "\n",
    "rename_ref_dict = {\n",
    "    'GEN':'community_name',\n",
    "    'BEZ':'community_type',\n",
    "    'BEZ':'community_association_class',\n",
    "    'SN_L':'federal_state_subcode',\n",
    "    'SN_R':'administrative_district_subcode', \n",
    "    'SN_K':'county_subcode',\n",
    "    'SN_V1':'municipal_association_subcode',\n",
    "    'SN_V2':'municipal_local_association_subcode',\n",
    "    'SN_G':'community_subcode', \n",
    "    'EWZ':'population', \n",
    "    'KFL':'area_in_square_km',\n",
    "}\n",
    "ref_data = ref_data.rename(columns=rename_ref_dict)\n",
    "\n",
    "ref_data.head()"
   ]
  },
  {
   "cell_type": "markdown",
   "id": "flexible-politics",
   "metadata": {},
   "source": [
    "#### data model\n",
    "\n",
    "Your colleague has done even a little more preparation work and created a diagram of the resulting data model.\n",
    "\n",
    "Find the diagram here: https://dbdiagram.io/d/611b77312ecb310fc3ce7f7f"
   ]
  },
  {
   "cell_type": "markdown",
   "id": "facial-salon",
   "metadata": {},
   "source": [
    "#### inspect the data by plotting with folum\n",
    "\n",
    "Here's another goodie from your colleague: a visualisation of the data done with the help of folium (reference: https://geopandas.readthedocs.io/en/latest/gallery/polygon_plotting_with_folium.html)."
   ]
  },
  {
   "cell_type": "code",
   "execution_count": null,
   "id": "requested-documentation",
   "metadata": {
    "tags": []
   },
   "outputs": [],
   "source": [
    "# incase you need to install folium\n",
    "#!pip install folium"
   ]
  },
  {
   "cell_type": "code",
   "execution_count": null,
   "id": "minor-preparation",
   "metadata": {
    "tags": []
   },
   "outputs": [],
   "source": [
    "import folium\n",
    "m = folium.Map(location=[49.8437, 9.1613], zoom_start=9, tiles='CartoDB positron')\n",
    "\n",
    "# Overlay the boundaries of boroughs on map with borough name as popup\n",
    "for _, r in geographies.iterrows():\n",
    "    sim_geo = gpd.GeoSeries(r['geometry']).simplify(tolerance=0.001) #without simplifying the representation of each borough, the map might not be displayed\n",
    "    geo_j = sim_geo.to_json()\n",
    "    geo_j = folium.GeoJson(data=geo_j, style_function=lambda x: {'fillColor': 'lightblue'})\n",
    "    folium.Popup(f\"community code: {r['community_code']}\").add_to(geo_j)\n",
    "    geo_j.add_to(m)\n",
    "m"
   ]
  },
  {
   "cell_type": "markdown",
   "id": "hollow-personal",
   "metadata": {},
   "source": [
    "## expected outcome"
   ]
  },
  {
   "cell_type": "markdown",
   "id": "floral-corps",
   "metadata": {},
   "source": [
    "Create a geographical structure 'sales_terr_1' where each territory is cut into four sub-territories, whereas each of the created sub-territories should be geographically united, and of equal size in population.\n",
    "\n",
    "The dataframe below provides the basic structure of the output format. Now, the sales_subterritory column is empty. Fill the column with your territory clusters."
   ]
  },
  {
   "cell_type": "code",
   "execution_count": null,
   "id": "heavy-observation",
   "metadata": {},
   "outputs": [],
   "source": [
    "sales_terr_1 = sales_terr.merge(ref_data[['community_code','population']], on='community_code')\n",
    "sales_terr_1['sales_subterritory'] = None\n",
    "sales_terr_1 = sales_terr_1[['community_code', 'sales_territory','sales_subterritory','population']]\n",
    "sales_terr_1.head()"
   ]
  },
  {
   "cell_type": "markdown",
   "id": "sophisticated-projector",
   "metadata": {},
   "source": [
    "Create another geographical structure 'sales_terr_2' where each territory is cut into as many sub-territories as possible, whereas each of the created sub-territories should be geographically united, and each sub-territory should have a population of at least 500000.\n",
    "\n",
    "The dataframe below provides the basic structure of the output format. Now, the sales_subterritory column is empty. Fill the column with your territory clusters."
   ]
  },
  {
   "cell_type": "code",
   "execution_count": null,
   "id": "ruled-moment",
   "metadata": {},
   "outputs": [],
   "source": [
    "sales_terr_2 = sales_terr.merge(ref_data[['community_code','population']], on='community_code')\n",
    "sales_terr_2['sales_subterritory'] = None\n",
    "sales_terr_2 = sales_terr_2[['community_code', 'sales_territory','sales_subterritory','population']]\n",
    "sales_terr_2.head()"
   ]
  },
  {
   "cell_type": "markdown",
   "id": "mexican-corpus",
   "metadata": {},
   "source": [
    "In case you should have questions, reach out to Siggi: siegstedt@machinemind.io\n",
    "    \n",
    "We're excited to see your results."
   ]
  },
  {
   "cell_type": "code",
   "execution_count": null,
   "id": "combined-burke",
   "metadata": {},
   "outputs": [],
   "source": []
  }
 ],
 "metadata": {
  "kernelspec": {
   "display_name": "Python 3",
   "language": "python",
   "name": "python3"
  },
  "language_info": {
   "codemirror_mode": {
    "name": "ipython",
    "version": 3
   },
   "file_extension": ".py",
   "mimetype": "text/x-python",
   "name": "python",
   "nbconvert_exporter": "python",
   "pygments_lexer": "ipython3",
   "version": "3.9.2"
  }
 },
 "nbformat": 4,
 "nbformat_minor": 5
}
